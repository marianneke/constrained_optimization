{
 "cells": [
  {
   "cell_type": "markdown",
   "metadata": {},
   "source": [
    "# Harvest Box Optimizer\n",
    "\n",
    "You are a data scientist at a company delivering boxes of vegetables to customers. Write an algorithm that takes into account your inventory, orders, and if known, the customer’s preferences, and create boxes out of the food you have.\n"
   ]
  },
  {
   "cell_type": "markdown",
   "metadata": {},
   "source": [
    "![example solution](images/harvest_box_optimizer.png)"
   ]
  },
  {
   "cell_type": "markdown",
   "metadata": {},
   "source": [
    "### Data\n",
    "\n",
    "**Orders**:\n",
    "- `client name`\n",
    "- `date`\n",
    "\n",
    "**Order history**:\n",
    "- `date`\n",
    "- `box contents`\n",
    "\n",
    "**Client preferences**:\n",
    "- `likes`\n",
    "- `dislikes`\n",
    "\n",
    "**Inventory**:\n",
    "- `type`\n",
    "- `weight`\n",
    "- `volume`\n",
    "- `best by date`\n",
    "\n",
    "**Recipes**\n",
    "- `ingredients list`"
   ]
  },
  {
   "cell_type": "markdown",
   "metadata": {},
   "source": [
    "## Q 0: What does a solution look like?\n",
    "\n",
    "Given each individual box (to be sent to a given customer), and each individual item in our inventory, a solution could take the form of a yes/no (1 or 0) whether this item should go into that box.\n",
    "\n",
    "\n",
    "Example:\n",
    "\\begin{equation}\n",
    "X_{b, i} \\in \\{0, 1\\} \\qquad \\text{for all } b\\in \\text{ boxes  and } i\\in \\text{ items}\n",
    "\\end{equation}\n",
    "\n",
    "Here, if $X_{b, i} = 1$, this means that item $i$ is assigned to box $b$. Conversely, if $X_{b, i} = 0$, item $i$ is not going into box $b$."
   ]
  },
  {
   "cell_type": "markdown",
   "metadata": {},
   "source": [
    "## Q 1: What are we trying to optimize for?\n",
    "\n",
    "Think of something we may want to optimize for (something our solution should maximize or minimize). It should be something that our data above can capture. Can you describe it and come up with a formula?\n",
    "\n",
    "\n",
    "###### Example: Send customers things that they like\n",
    "\n",
    "\n",
    "* Description:\n",
    "\n",
    "\\begin{equation}\n",
    "\\end{equation}\n",
    "\n",
    "* Formula:\n",
    "\n",
    "\\begin{equation}\n",
    "\\end{equation}\n",
    "\n",
    "\n",
    "\n"
   ]
  },
  {
   "cell_type": "markdown",
   "metadata": {},
   "source": [
    "## Q 2: Can you think of any constraints?\n",
    "\n",
    "Examples:\n",
    "1. We cannot use more potatoes than we have in our inventory.\n",
    "1. If we know the maximum volume and weight each box can carry, we cannot exceed that"
   ]
  },
  {
   "cell_type": "markdown",
   "metadata": {},
   "source": [
    "### How might a constraint be used to simplify a problem?\n",
    "\n",
    "\n",
    "Note, we can use constraints even when they are not strictly necessary, just to simplify a problem."
   ]
  },
  {
   "cell_type": "markdown",
   "metadata": {},
   "source": [
    "\n",
    "\n"
   ]
  },
  {
   "cell_type": "markdown",
   "metadata": {},
   "source": [
    "## Q 3: If you had a database of recipes, how could you use them to simplify your problem\n",
    "\n",
    "Remember: each recipe has a list of ingredients...\n",
    "\n",
    "\\begin{equation}\n",
    "\\end{equation}"
   ]
  },
  {
   "cell_type": "markdown",
   "metadata": {},
   "source": [
    "## Q 4: How might different food products’ shelf life be relevant for this problem?\n",
    "\n",
    "\n",
    "Can you come up with a cost or constraint that ensures we don't have to throw out produce?\n",
    "\n",
    "\n",
    "\n",
    "\n",
    "\n",
    "###### Minimize the number of vegetables that will go out of date (by ensuring we use up inventory that has the soonest best by date first)\n",
    "\n",
    "\n",
    "\n",
    "* Description:\n",
    "\n",
    "\\begin{equation}\n",
    "\\end{equation}\n",
    "\n",
    "* Formula:\n",
    "\n",
    "\\begin{equation}\n",
    "\\end{equation}"
   ]
  },
  {
   "cell_type": "markdown",
   "metadata": {},
   "source": [
    "## Q 5: What would change if some of the orders haven't been placed yet, but you have forecasts of what they might be?\n",
    "\n",
    "\n",
    "\n",
    "\n",
    "\\begin{equation}\n",
    "\\end{equation}"
   ]
  }
 ],
 "metadata": {
  "kernelspec": {
   "display_name": "Python 3",
   "language": "python",
   "name": "python3"
  },
  "language_info": {
   "codemirror_mode": {
    "name": "ipython",
    "version": 3
   },
   "file_extension": ".py",
   "mimetype": "text/x-python",
   "name": "python",
   "nbconvert_exporter": "python",
   "pygments_lexer": "ipython3",
   "version": "3.7.4"
  }
 },
 "nbformat": 4,
 "nbformat_minor": 4
}
